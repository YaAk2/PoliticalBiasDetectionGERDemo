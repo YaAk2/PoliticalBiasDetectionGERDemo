{
 "cells": [
  {
   "cell_type": "code",
   "execution_count": 1,
   "metadata": {},
   "outputs": [
    {
     "name": "stderr",
     "output_type": "stream",
     "text": [
      "C:\\Users\\yakrami\\Anaconda3\\lib\\site-packages\\tensorflow\\python\\framework\\dtypes.py:516: FutureWarning: Passing (type, 1) or '1type' as a synonym of type is deprecated; in a future version of numpy, it will be understood as (type, (1,)) / '(1,)type'.\n",
      "  _np_qint8 = np.dtype([(\"qint8\", np.int8, 1)])\n",
      "C:\\Users\\yakrami\\Anaconda3\\lib\\site-packages\\tensorflow\\python\\framework\\dtypes.py:517: FutureWarning: Passing (type, 1) or '1type' as a synonym of type is deprecated; in a future version of numpy, it will be understood as (type, (1,)) / '(1,)type'.\n",
      "  _np_quint8 = np.dtype([(\"quint8\", np.uint8, 1)])\n",
      "C:\\Users\\yakrami\\Anaconda3\\lib\\site-packages\\tensorflow\\python\\framework\\dtypes.py:518: FutureWarning: Passing (type, 1) or '1type' as a synonym of type is deprecated; in a future version of numpy, it will be understood as (type, (1,)) / '(1,)type'.\n",
      "  _np_qint16 = np.dtype([(\"qint16\", np.int16, 1)])\n",
      "C:\\Users\\yakrami\\Anaconda3\\lib\\site-packages\\tensorflow\\python\\framework\\dtypes.py:519: FutureWarning: Passing (type, 1) or '1type' as a synonym of type is deprecated; in a future version of numpy, it will be understood as (type, (1,)) / '(1,)type'.\n",
      "  _np_quint16 = np.dtype([(\"quint16\", np.uint16, 1)])\n",
      "C:\\Users\\yakrami\\Anaconda3\\lib\\site-packages\\tensorflow\\python\\framework\\dtypes.py:520: FutureWarning: Passing (type, 1) or '1type' as a synonym of type is deprecated; in a future version of numpy, it will be understood as (type, (1,)) / '(1,)type'.\n",
      "  _np_qint32 = np.dtype([(\"qint32\", np.int32, 1)])\n",
      "C:\\Users\\yakrami\\Anaconda3\\lib\\site-packages\\tensorflow\\python\\framework\\dtypes.py:525: FutureWarning: Passing (type, 1) or '1type' as a synonym of type is deprecated; in a future version of numpy, it will be understood as (type, (1,)) / '(1,)type'.\n",
      "  np_resource = np.dtype([(\"resource\", np.ubyte, 1)])\n",
      "C:\\Users\\yakrami\\Anaconda3\\lib\\site-packages\\tensorboard\\compat\\tensorflow_stub\\dtypes.py:541: FutureWarning: Passing (type, 1) or '1type' as a synonym of type is deprecated; in a future version of numpy, it will be understood as (type, (1,)) / '(1,)type'.\n",
      "  _np_qint8 = np.dtype([(\"qint8\", np.int8, 1)])\n",
      "C:\\Users\\yakrami\\Anaconda3\\lib\\site-packages\\tensorboard\\compat\\tensorflow_stub\\dtypes.py:542: FutureWarning: Passing (type, 1) or '1type' as a synonym of type is deprecated; in a future version of numpy, it will be understood as (type, (1,)) / '(1,)type'.\n",
      "  _np_quint8 = np.dtype([(\"quint8\", np.uint8, 1)])\n",
      "C:\\Users\\yakrami\\Anaconda3\\lib\\site-packages\\tensorboard\\compat\\tensorflow_stub\\dtypes.py:543: FutureWarning: Passing (type, 1) or '1type' as a synonym of type is deprecated; in a future version of numpy, it will be understood as (type, (1,)) / '(1,)type'.\n",
      "  _np_qint16 = np.dtype([(\"qint16\", np.int16, 1)])\n",
      "C:\\Users\\yakrami\\Anaconda3\\lib\\site-packages\\tensorboard\\compat\\tensorflow_stub\\dtypes.py:544: FutureWarning: Passing (type, 1) or '1type' as a synonym of type is deprecated; in a future version of numpy, it will be understood as (type, (1,)) / '(1,)type'.\n",
      "  _np_quint16 = np.dtype([(\"quint16\", np.uint16, 1)])\n",
      "C:\\Users\\yakrami\\Anaconda3\\lib\\site-packages\\tensorboard\\compat\\tensorflow_stub\\dtypes.py:545: FutureWarning: Passing (type, 1) or '1type' as a synonym of type is deprecated; in a future version of numpy, it will be understood as (type, (1,)) / '(1,)type'.\n",
      "  _np_qint32 = np.dtype([(\"qint32\", np.int32, 1)])\n",
      "C:\\Users\\yakrami\\Anaconda3\\lib\\site-packages\\tensorboard\\compat\\tensorflow_stub\\dtypes.py:550: FutureWarning: Passing (type, 1) or '1type' as a synonym of type is deprecated; in a future version of numpy, it will be understood as (type, (1,)) / '(1,)type'.\n",
      "  np_resource = np.dtype([(\"resource\", np.ubyte, 1)])\n"
     ]
    }
   ],
   "source": [
    "from newspaper import Article\n",
    "from tensorflow.keras.models import load_model\n",
    "from pbd_ger import*\n",
    "import pickle\n",
    "%load_ext autoreload\n",
    "%autoreload 2"
   ]
  },
  {
   "cell_type": "code",
   "execution_count": 2,
   "metadata": {},
   "outputs": [
    {
     "name": "stdout",
     "output_type": "stream",
     "text": [
      "WARNING:tensorflow:From C:\\Users\\yakrami\\Anaconda3\\lib\\site-packages\\tensorflow\\python\\keras\\initializers.py:119: calling RandomUniform.__init__ (from tensorflow.python.ops.init_ops) with dtype is deprecated and will be removed in a future version.\n",
      "Instructions for updating:\n",
      "Call initializer instance with the dtype argument instead of passing it to the constructor\n",
      "WARNING:tensorflow:From C:\\Users\\yakrami\\Anaconda3\\lib\\site-packages\\tensorflow\\python\\ops\\init_ops.py:1251: calling VarianceScaling.__init__ (from tensorflow.python.ops.init_ops) with dtype is deprecated and will be removed in a future version.\n",
      "Instructions for updating:\n",
      "Call initializer instance with the dtype argument instead of passing it to the constructor\n"
     ]
    }
   ],
   "source": [
    "model = load_model('models/stacked_lstm.11-0.64.h5', custom_objects={'f1':f1})"
   ]
  },
  {
   "cell_type": "code",
   "execution_count": 3,
   "metadata": {},
   "outputs": [],
   "source": [
    "url = 'https://www.sueddeutsche.de/bayern/gesundheit-muenchen-zaesur-im-kampf-gegen-corona-impfungen-in-bayern-gestartet-dpa.urn-newsml-dpa-com-20090101-201226-99-817856'\n",
    "a = Article(url, language='de') # Chinese\n",
    "a.download()\n",
    "a.parse()"
   ]
  },
  {
   "cell_type": "code",
   "execution_count": 4,
   "metadata": {},
   "outputs": [],
   "source": [
    "with open('vocab.pkl', 'rb') as f:\n",
    "    word_index = pickle.load(f)"
   ]
  },
  {
   "cell_type": "code",
   "execution_count": 7,
   "metadata": {},
   "outputs": [
    {
     "data": {
      "text/plain": [
       "array([[    1,  3133,   454,     2, 17706,    87, 23937,    14,    23,\n",
       "            0,   539,  1563,    28,     4,     0,   234,     1, 27581,\n",
       "         4869,     1,     0,  1111,    44,    12,   553,     7,   618,\n",
       "           86,  3194,    60,    25,     2, 17706,     0, 29669,    28,\n",
       "          539,  1439,    12,    18,   169,     7,    42,  6754,     2,\n",
       "          360,   221,    57,   384,  2508,     4,     6,   126,  1047,\n",
       "         6015,   135,     1,   228, 13887,     0,     0,     4,     0,\n",
       "           36,   802,    71,    20,   618,  1969,     0,     4,     0,\n",
       "           20,   119,     1,    69, 18475,   140,  1531,     8,    31,\n",
       "            1,  8187,  3706,     4,     0,  4622,     1,  8858,  1969,\n",
       "         8690,     0,     3,   128,   369,   140,  1074,  8479,   697,\n",
       "            1,   228, 21911,     4,    67,     0,     0,     5,     8,\n",
       "           22,     0,     3,  3510,  5738,     1,  8858,  1969,     6,\n",
       "         3461,     2,     9,    56,   245,     0,  3024,   110,    57,\n",
       "            4,     6,   549,     2,  3573,     0,    15,  5158,  7279,\n",
       "           51,   828,    41,  1498,  2396,     4,     6,   228,   678,\n",
       "          115,   384,  9222,     4,  2594,     3, 22222,   243,     4,\n",
       "         6112,     0,    28,   439, 10744,     3,  2824,     2, 22706,\n",
       "          115,     0,  2220,     4,     0,     3,     0,    26,  3486,\n",
       "            6,     0,     0,   454,    76,    49,  7706,    28,   290,\n",
       "          361,     0,   155,     0,     4,     0,     0,    15,  5158,\n",
       "         1210,    15,   176,   111,   115,    12,    14,  9985, 15520,\n",
       "         3493,     4,     6,  3573,     0,   643,   897,  4643,  5370,\n",
       "         1422,   903,  2247,    32,     4,     0,    15,   540,    31,\n",
       "            0,     0,    51,   828,   146,   450,   234,    19, 19220,\n",
       "         2247,  3086,  3685,    92,    13,    47,  9661,   645,  3858,\n",
       "            0,    28,   100,    35,  1496,     1,  1137,     2,     0,\n",
       "        26665,     3,     4,     6,  2094,  9289,     0,     2, 17706,\n",
       "            6,     1,  1986,     0,     3,     0,    65,     5,  6523,\n",
       "         1240,    27,   100,    36,  5577, 13952,    38,     1,  4929,\n",
       "         1382,  4045,     0,    28,     4,     6,  5650,     0,   100,\n",
       "           12,    62, 10247,   530,   285,   169,  5673,     1,     0,\n",
       "            4,  4160,     0,     3,    73,  5045,   210,    76,   427,\n",
       "          678, 10477,    28]])"
      ]
     },
     "execution_count": 7,
     "metadata": {},
     "output_type": "execute_result"
    }
   ],
   "source": [
    "vectorize(a.text, word_index)"
   ]
  },
  {
   "cell_type": "code",
   "execution_count": 18,
   "metadata": {},
   "outputs": [
    {
     "name": "stdout",
     "output_type": "stream",
     "text": [
      "Center: 99.99%\n",
      "Left: 0.01%\n",
      "Right: 0.00%\n"
     ]
    }
   ],
   "source": [
    "pred = model.predict(vectorize(a.text, word_index))[0]\n",
    "for i in range(len(pred)):\n",
    "    print(mapping[i] + ': ' \"{:.2%}\".format(pred[i]))"
   ]
  },
  {
   "cell_type": "code",
   "execution_count": null,
   "metadata": {},
   "outputs": [],
   "source": [
    "mapping = ['Center', 'Left', 'Right']"
   ]
  }
 ],
 "metadata": {
  "kernelspec": {
   "display_name": "Python 3",
   "language": "python",
   "name": "python3"
  },
  "language_info": {
   "codemirror_mode": {
    "name": "ipython",
    "version": 3
   },
   "file_extension": ".py",
   "mimetype": "text/x-python",
   "name": "python",
   "nbconvert_exporter": "python",
   "pygments_lexer": "ipython3",
   "version": "3.7.6"
  }
 },
 "nbformat": 4,
 "nbformat_minor": 4
}
